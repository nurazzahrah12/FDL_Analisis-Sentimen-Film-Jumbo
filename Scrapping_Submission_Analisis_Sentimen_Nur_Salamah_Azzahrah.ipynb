{
  "nbformat": 4,
  "nbformat_minor": 0,
  "metadata": {
    "colab": {
      "provenance": []
    },
    "kernelspec": {
      "name": "python3",
      "display_name": "Python 3"
    },
    "language_info": {
      "name": "python"
    }
  },
  "cells": [
    {
      "cell_type": "code",
      "source": [
        "!pip install google-api-python-client==2.98.0"
      ],
      "metadata": {
        "colab": {
          "base_uri": "https://localhost:8080/"
        },
        "collapsed": true,
        "id": "HQ_5uZ5_J4i2",
        "outputId": "7b8a7369-0473-4078-b595-afa7ab59816b"
      },
      "execution_count": null,
      "outputs": [
        {
          "output_type": "stream",
          "name": "stdout",
          "text": [
            "Collecting google-api-python-client==2.98.0\n",
            "  Downloading google_api_python_client-2.98.0-py2.py3-none-any.whl.metadata (6.6 kB)\n",
            "Requirement already satisfied: httplib2<1.dev0,>=0.15.0 in /usr/local/lib/python3.11/dist-packages (from google-api-python-client==2.98.0) (0.22.0)\n",
            "Requirement already satisfied: google-auth<3.0.0.dev0,>=1.19.0 in /usr/local/lib/python3.11/dist-packages (from google-api-python-client==2.98.0) (2.38.0)\n",
            "Requirement already satisfied: google-auth-httplib2>=0.1.0 in /usr/local/lib/python3.11/dist-packages (from google-api-python-client==2.98.0) (0.2.0)\n",
            "Requirement already satisfied: google-api-core!=2.0.*,!=2.1.*,!=2.2.*,!=2.3.0,<3.0.0.dev0,>=1.31.5 in /usr/local/lib/python3.11/dist-packages (from google-api-python-client==2.98.0) (2.24.2)\n",
            "Requirement already satisfied: uritemplate<5,>=3.0.1 in /usr/local/lib/python3.11/dist-packages (from google-api-python-client==2.98.0) (4.1.1)\n",
            "Requirement already satisfied: googleapis-common-protos<2.0.0,>=1.56.2 in /usr/local/lib/python3.11/dist-packages (from google-api-core!=2.0.*,!=2.1.*,!=2.2.*,!=2.3.0,<3.0.0.dev0,>=1.31.5->google-api-python-client==2.98.0) (1.70.0)\n",
            "Requirement already satisfied: protobuf!=3.20.0,!=3.20.1,!=4.21.0,!=4.21.1,!=4.21.2,!=4.21.3,!=4.21.4,!=4.21.5,<7.0.0,>=3.19.5 in /usr/local/lib/python3.11/dist-packages (from google-api-core!=2.0.*,!=2.1.*,!=2.2.*,!=2.3.0,<3.0.0.dev0,>=1.31.5->google-api-python-client==2.98.0) (5.29.4)\n",
            "Requirement already satisfied: proto-plus<2.0.0,>=1.22.3 in /usr/local/lib/python3.11/dist-packages (from google-api-core!=2.0.*,!=2.1.*,!=2.2.*,!=2.3.0,<3.0.0.dev0,>=1.31.5->google-api-python-client==2.98.0) (1.26.1)\n",
            "Requirement already satisfied: requests<3.0.0,>=2.18.0 in /usr/local/lib/python3.11/dist-packages (from google-api-core!=2.0.*,!=2.1.*,!=2.2.*,!=2.3.0,<3.0.0.dev0,>=1.31.5->google-api-python-client==2.98.0) (2.32.3)\n",
            "Requirement already satisfied: cachetools<6.0,>=2.0.0 in /usr/local/lib/python3.11/dist-packages (from google-auth<3.0.0.dev0,>=1.19.0->google-api-python-client==2.98.0) (5.5.2)\n",
            "Requirement already satisfied: pyasn1-modules>=0.2.1 in /usr/local/lib/python3.11/dist-packages (from google-auth<3.0.0.dev0,>=1.19.0->google-api-python-client==2.98.0) (0.4.2)\n",
            "Requirement already satisfied: rsa<5,>=3.1.4 in /usr/local/lib/python3.11/dist-packages (from google-auth<3.0.0.dev0,>=1.19.0->google-api-python-client==2.98.0) (4.9.1)\n",
            "Requirement already satisfied: pyparsing!=3.0.0,!=3.0.1,!=3.0.2,!=3.0.3,<4,>=2.4.2 in /usr/local/lib/python3.11/dist-packages (from httplib2<1.dev0,>=0.15.0->google-api-python-client==2.98.0) (3.2.3)\n",
            "Requirement already satisfied: pyasn1<0.7.0,>=0.6.1 in /usr/local/lib/python3.11/dist-packages (from pyasn1-modules>=0.2.1->google-auth<3.0.0.dev0,>=1.19.0->google-api-python-client==2.98.0) (0.6.1)\n",
            "Requirement already satisfied: charset-normalizer<4,>=2 in /usr/local/lib/python3.11/dist-packages (from requests<3.0.0,>=2.18.0->google-api-core!=2.0.*,!=2.1.*,!=2.2.*,!=2.3.0,<3.0.0.dev0,>=1.31.5->google-api-python-client==2.98.0) (3.4.1)\n",
            "Requirement already satisfied: idna<4,>=2.5 in /usr/local/lib/python3.11/dist-packages (from requests<3.0.0,>=2.18.0->google-api-core!=2.0.*,!=2.1.*,!=2.2.*,!=2.3.0,<3.0.0.dev0,>=1.31.5->google-api-python-client==2.98.0) (3.10)\n",
            "Requirement already satisfied: urllib3<3,>=1.21.1 in /usr/local/lib/python3.11/dist-packages (from requests<3.0.0,>=2.18.0->google-api-core!=2.0.*,!=2.1.*,!=2.2.*,!=2.3.0,<3.0.0.dev0,>=1.31.5->google-api-python-client==2.98.0) (2.3.0)\n",
            "Requirement already satisfied: certifi>=2017.4.17 in /usr/local/lib/python3.11/dist-packages (from requests<3.0.0,>=2.18.0->google-api-core!=2.0.*,!=2.1.*,!=2.2.*,!=2.3.0,<3.0.0.dev0,>=1.31.5->google-api-python-client==2.98.0) (2025.1.31)\n",
            "Downloading google_api_python_client-2.98.0-py2.py3-none-any.whl (12.2 MB)\n",
            "\u001b[2K   \u001b[90m━━━━━━━━━━━━━━━━━━━━━━━━━━━━━━━━━━━━━━━━\u001b[0m \u001b[32m12.2/12.2 MB\u001b[0m \u001b[31m56.2 MB/s\u001b[0m eta \u001b[36m0:00:00\u001b[0m\n",
            "\u001b[?25hInstalling collected packages: google-api-python-client\n",
            "  Attempting uninstall: google-api-python-client\n",
            "    Found existing installation: google-api-python-client 2.164.0\n",
            "    Uninstalling google-api-python-client-2.164.0:\n",
            "      Successfully uninstalled google-api-python-client-2.164.0\n",
            "Successfully installed google-api-python-client-2.98.0\n"
          ]
        }
      ]
    },
    {
      "cell_type": "code",
      "source": [
        "# Import semua library\n",
        "import csv\n",
        "from googleapiclient.discovery import build\n",
        "from googleapiclient.errors import HttpError"
      ],
      "metadata": {
        "id": "7rZBGxOquoOf"
      },
      "execution_count": null,
      "outputs": []
    },
    {
      "cell_type": "code",
      "source": [
        "# Fungsi untuk mendapatkan semua komentar dari video YouTube\n",
        "def ambil_semua_komentar(video_id, api_key):\n",
        "    try:\n",
        "        # Membangun objek YouTube Data API\n",
        "        youtube = build('youtube', 'v3', developerKey=api_key)\n",
        "\n",
        "        komentar = []\n",
        "        next_page_token = None\n",
        "\n",
        "        while True:\n",
        "            # Mengirim permintaan API untuk mendapatkan komentar video\n",
        "            respon = youtube.commentThreads().list(\n",
        "                part='snippet',\n",
        "                videoId=video_id,\n",
        "                maxResults=100,\n",
        "                pageToken=next_page_token\n",
        "            ).execute()\n",
        "\n",
        "            # Mendapatkan semua komentar dari respon API\n",
        "            for item in respon['items']:\n",
        "                komentar_item = item['snippet']['topLevelComment']['snippet']\n",
        "                komentar.append(komentar_item)\n",
        "\n",
        "            # Periksa apakah ada halaman berikutnya\n",
        "            next_page_token = respon.get('nextPageToken')\n",
        "            if not next_page_token:\n",
        "                break\n",
        "\n",
        "        print(f\"Jumlah komentar dari video {video_id}: {len(komentar)}\")\n",
        "        return komentar\n",
        "\n",
        "    except HttpError as e:\n",
        "        print(f'Error: {e}')\n",
        "        return []\n",
        "\n",
        "# API\n",
        "api_key = '-'\n",
        "\n",
        "# Daftar video ID yang akan diambil komentarnya (gabungkan semua ID)\n",
        "video_ids = [\n",
        "    'yMqDgbZmBdk',\n",
        "    'bB-dovQnBk4',\n",
        "    '0LvE0XeAvrQ',\n",
        "    'YW3sQ16oksY',\n",
        "    '4_NUOhYV_iw',\n",
        "    '6sbUuHw0Y-4',\n",
        "    'zUL_16Nhiuk',\n",
        "    'OiuBRWeU5G0',\n",
        "    'fF1hXYxagNw',\n",
        "    'Kop7rCN6jmI',\n",
        "    'CkTWAyENKOw',\n",
        "    '3PFYFsYH5zA'\n",
        "]\n",
        "\n",
        "# Gabungkan komentar dari semua video\n",
        "semua_komentar = []\n",
        "for video_id in video_ids:\n",
        "    semua_komentar.extend(ambil_semua_komentar(video_id, api_key))\n",
        "\n",
        "# Menampilkan total dataset (jumlah total komentar)\n",
        "total_komentar = len(semua_komentar)\n",
        "print(f\"Jumlah total komentar dari semua video: {total_komentar}\")\n",
        "\n",
        "# Menyimpan semua komentar ke dalam satu file CSV\n",
        "nama_file = 'scrapping_jumbo.csv'\n",
        "kolom = ['Komentar', 'Jumlah Like']\n",
        "\n",
        "with open(nama_file, 'w', newline='', encoding='utf-8') as csvfile:\n",
        "    penulis = csv.DictWriter(csvfile, fieldnames=kolom)\n",
        "    penulis.writeheader()\n",
        "\n",
        "    for komentar in semua_komentar:\n",
        "        teks_komentar = komentar['textDisplay']\n",
        "        jumlah_like = komentar['likeCount']\n",
        "\n",
        "        penulis.writerow({'Komentar': teks_komentar, 'Jumlah Like': jumlah_like})\n",
        "\n",
        "print(f\"Data komentar dari semua video telah disimpan ke dalam file '{nama_file}'.\")"
      ],
      "metadata": {
        "id": "2msvbrDnVE4D",
        "colab": {
          "base_uri": "https://localhost:8080/"
        },
        "outputId": "cf042dc8-61a3-4f0c-cc69-3c5cf60a241d"
      },
      "execution_count": null,
      "outputs": [
        {
          "output_type": "stream",
          "name": "stdout",
          "text": [
            "Jumlah komentar dari video yMqDgbZmBdk: 1320\n",
            "Jumlah komentar dari video bB-dovQnBk4: 6987\n",
            "Jumlah komentar dari video 0LvE0XeAvrQ: 1735\n",
            "Jumlah komentar dari video YW3sQ16oksY: 1464\n",
            "Jumlah komentar dari video 4_NUOhYV_iw: 53\n",
            "Jumlah komentar dari video 6sbUuHw0Y-4: 1487\n",
            "Jumlah komentar dari video zUL_16Nhiuk: 1024\n",
            "Jumlah komentar dari video OiuBRWeU5G0: 213\n",
            "Jumlah komentar dari video fF1hXYxagNw: 90\n",
            "Jumlah komentar dari video Kop7rCN6jmI: 93\n",
            "Jumlah komentar dari video CkTWAyENKOw: 566\n",
            "Jumlah komentar dari video 3PFYFsYH5zA: 2226\n",
            "Jumlah total komentar dari semua video: 17258\n",
            "Data komentar dari semua video telah disimpan ke dalam file 'scrapping_jumbo.csv'.\n"
          ]
        }
      ]
    }
  ]
}